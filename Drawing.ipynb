{
 "cells": [
  {
   "cell_type": "code",
   "execution_count": 1,
   "id": "c36acae3-5283-41b8-8aed-eac21da978e6",
   "metadata": {},
   "outputs": [],
   "source": [
    "import cv2\n",
    "import numpy as np\n",
    "\n",
    "# Create a blank image (white background)\n",
    "image = np.ones((400, 600, 3), dtype=np.uint8) * 255\n",
    "\n",
    "# Drawing a Line\n",
    "cv2.line(image, (100, 100), (500, 100), (0, 0, 255), 5)  # (start), (end), (color), thickness\n",
    "\n",
    "# Drawing a Rectangle\n",
    "cv2.rectangle(image, (50, 150), (250, 300), (0, 255, 0), 3)  # (top-left), (bottom-right), (color), thickness\n",
    "\n",
    "# Drawing an Ellipse\n",
    "cv2.ellipse(image, (400, 250), (100, 50), 0, 0, 360, (255, 0, 0), 2)  # (center), (major axis length, minor axis length), angle, startAngle, endAngle, (color), thickness\n",
    "\n",
    "# Drawing a Circle\n",
    "cv2.circle(image, (500, 350), 50, (0, 255, 255), -1)  # (center), radius, (color), -1 for filled circle\n",
    "\n",
    "# Display the image\n",
    "cv2.imshow('Geometrical Shapes', image)\n",
    "\n",
    "# Wait for a key press and close the window\n",
    "cv2.waitKey(0)\n",
    "cv2.destroyAllWindows()\n"
   ]
  },
  {
   "cell_type": "code",
   "execution_count": null,
   "id": "d405bdf8-219a-41d1-be71-f8e1a54c3026",
   "metadata": {},
   "outputs": [],
   "source": []
  }
 ],
 "metadata": {
  "kernelspec": {
   "display_name": "Python 3 (ipykernel)",
   "language": "python",
   "name": "python3"
  },
  "language_info": {
   "codemirror_mode": {
    "name": "ipython",
    "version": 3
   },
   "file_extension": ".py",
   "mimetype": "text/x-python",
   "name": "python",
   "nbconvert_exporter": "python",
   "pygments_lexer": "ipython3",
   "version": "3.10.2"
  }
 },
 "nbformat": 4,
 "nbformat_minor": 5
}
