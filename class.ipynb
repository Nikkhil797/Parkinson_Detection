{
 "cells": [
  {
   "cell_type": "code",
   "execution_count": 4,
   "id": "97e4bc59-7d2d-4718-b598-fedef8bcf508",
   "metadata": {},
   "outputs": [
    {
     "name": "stdout",
     "output_type": "stream",
     "text": [
      "Automobil_parts Parcel Details\n",
      "96355 86643\t86643 87653\t\n"
     ]
    }
   ],
   "source": [
    "import csv\n",
    "\n",
    "class WarehouseParcel:\n",
    "    def __init__(self, parcel_number, parcel_weight, parcel_category):\n",
    "        self.parcel_number = parcel_number\n",
    "        self.parcel_weight = parcel_weight\n",
    "        self.parcel_category = parcel_category\n",
    "\n",
    "    def save_and_display_parcel_details(self, parcels):\n",
    "        # Define a CSV file name based on the parcel category\n",
    "        csv_filename = f'{self.parcel_category}_parcels.csv'\n",
    "\n",
    "        # Save the parcel details to the CSV file\n",
    "        with open(csv_filename, mode='w', newline='') as csv_file:\n",
    "            fieldnames = ['Parcel Number', 'Parcel Weight']\n",
    "            writer = csv.DictWriter(csv_file, fieldnames=fieldnames)\n",
    "            writer.writeheader()\n",
    "\n",
    "            for parcel in parcels:\n",
    "                if parcel.parcel_category == self.parcel_category:\n",
    "                    writer.writerow({'Parcel Number': parcel.parcel_number, 'Parcel Weight': parcel.parcel_weight})\n",
    "\n",
    "        # Display the parcel numbers in columns\n",
    "        print(f'{self.parcel_category.capitalize()} Parcel Details')\n",
    "        category_parcels = [parcel for parcel in parcels if parcel.parcel_category == self.parcel_category]\n",
    "        for i in range(0, len(category_parcels), 3):\n",
    "            for parcel in category_parcels[i:i+3]:\n",
    "                print(f'{parcel.parcel_number} {parcel.parcel_weight}', end='\\t')\n",
    "            print()  # Start a new line for the next row of parcels\n",
    "\n",
    "# Create a list of WarehouseParcel objects\n",
    "parcels = [\n",
    "    WarehouseParcel(23456, 66234, 'filters'),\n",
    "    WarehouseParcel(96355, 86643, 'automobil_parts'),\n",
    "    WarehouseParcel(83722, 64326, 'filters'),\n",
    "    WarehouseParcel(98432, 53463, 'cargo_containeer'),\n",
    "    WarehouseParcel(86643, 87653, 'automobil_parts'),\n",
    "]\n",
    "\n",
    "# Save and display parcel details for a specific category\n",
    "parcel_category = 'automobil_parts'\n",
    "parcel = WarehouseParcel(0, 0, parcel_category)  # Create a placeholder object for the category\n",
    "parcel.save_and_display_parcel_details(parcels)\n"
   ]
  },
  {
   "cell_type": "code",
   "execution_count": null,
   "id": "ebe33f05-e01e-4cd9-828d-b3bfb09aa071",
   "metadata": {},
   "outputs": [],
   "source": []
  }
 ],
 "metadata": {
  "kernelspec": {
   "display_name": "Python 3 (ipykernel)",
   "language": "python",
   "name": "python3"
  },
  "language_info": {
   "codemirror_mode": {
    "name": "ipython",
    "version": 3
   },
   "file_extension": ".py",
   "mimetype": "text/x-python",
   "name": "python",
   "nbconvert_exporter": "python",
   "pygments_lexer": "ipython3",
   "version": "3.10.2"
  }
 },
 "nbformat": 4,
 "nbformat_minor": 5
}
